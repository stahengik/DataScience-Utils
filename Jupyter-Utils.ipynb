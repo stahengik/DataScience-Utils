
# Print execution date time with eavery cell

#Method 1
import datetime

# Define a function to print the current date and time
def print_date_time():
    current_time = datetime.datetime.now().strftime("%Y-%m-%d %H:%M:%S")
    print(f"Execution time: {current_time}")

# Register the function to be executed before each cell execution
get_ipython().events.register('pre_run_cell', print_date_time)


# View all registered events
print(get_ipython().events.callbacks)

# View callbacks for a specific event
print(get_ipython().events.callbacks['pre_run_cell'])

# Unregister a specific callback function from an event
callbacks = get_ipython().events.callbacks['pre_run_cell']
get_ipython().events.callbacks['pre_run_cell'] = [cb for cb in callbacks if cb != callback1]

# View callbacks for the event after unregistering
print(get_ipython().events.callbacks['pre_run_cell'])

# Unregister all callbacks from a specific event
get_ipython().events.callbacks['pre_run_cell'] = []

# View callbacks for the event after unregistering all
print(get_ipython().events.callbacks['pre_run_cell'])
