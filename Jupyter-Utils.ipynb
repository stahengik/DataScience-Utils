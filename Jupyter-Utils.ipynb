
### Print execution date time with eavery cell

import datetime

# Define a function to print the current date and time
def print_date_time():
    current_time = datetime.datetime.now().strftime("%Y-%m-%d %H:%M:%S")
    print(f"Execution time: {current_time}")

# Register the function to be executed before each cell execution
get_ipython().events.register('pre_run_cell', print_date_time)



