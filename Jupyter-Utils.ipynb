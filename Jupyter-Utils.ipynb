

{
 "cells": [
  {
   "cell_type": "code",
   "execution_count": null,
   "metadata": {},
   "outputs": [],
   "source": [
    "\n",
    "# Print execution date time with eavery cell\n",
    "\n",
    "#Method 1\n",
    "import datetime\n",
    "\n",
    "# Define a function to print the current date and time\n",
    "def print_date_time():\n",
    "    current_time = datetime.datetime.now().strftime(\"%Y-%m-%d %H:%M:%S\")\n",
    "    print(f\"Execution time: {current_time}\")\n",
    "\n",
    "# Register the function to be executed before each cell execution\n",
    "get_ipython().events.register('pre_run_cell', print_date_time)\n",
    "\n",
    "\n",
    "# View all registered events\n",
    "print(get_ipython().events.callbacks)\n",
    "\n",
    "# View callbacks for a specific event\n",
    "print(get_ipython().events.callbacks['pre_run_cell'])\n",
    "\n",
    "# Unregister a specific callback function from an event\n",
    "callbacks = get_ipython().events.callbacks['pre_run_cell']\n",
    "get_ipython().events.callbacks['pre_run_cell'] = [cb for cb in callbacks if cb != callback1]\n",
    "\n",
    "# View callbacks for the event after unregistering\n",
    "print(get_ipython().events.callbacks['pre_run_cell'])\n",
    "\n",
    "# Unregister all callbacks from a specific event\n",
    "get_ipython().events.callbacks['pre_run_cell'] = []\n",
    "\n",
    "# View callbacks for the event after unregistering all\n",
    "print(get_ipython().events.callbacks['pre_run_cell'])\n"
   ]
  }
 ],
 "metadata": {
  "kernelspec": {
   "display_name": "AsphaltTerminalBenchmarking",
   "language": "python",
   "name": "python3"
  },
  "language_info": {
   "name": "python",
   "version": "3.11.2"
  },
  "orig_nbformat": 4
 },
 "nbformat": 4,
 "nbformat_minor": 2
}

# View callbacks for the event after unregistering all
print(get_ipython().events.callbacks['pre_run_cell'])
